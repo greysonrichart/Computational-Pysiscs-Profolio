{
 "cells": [
  {
   "cell_type": "markdown",
   "metadata": {},
   "source": [
    "# Breakdown Project\n",
    "\n",
    "By: Nick R and Greyson R"
   ]
  },
  {
   "cell_type": "markdown",
   "metadata": {},
   "source": [
    "For our first project in this class we were given the option to recreate the breakout game. We took that option because we thought it would be a good way to learn more about collisions. We decided to call the game \"Breakdown\" to give our project a bit of originality from the already created breakout game. "
   ]
  },
  {
   "attachments": {
    "image.png": {
     "image/png": "[encoded data removed]"
    }
   },
   "cell_type": "markdown",
   "metadata": {},
   "source": [
    "![image.png](attachment:image.png)"
   ]
  },
  {
   "cell_type": "markdown",
   "metadata": {},
   "source": [
    "## Code:\n",
    "(Do not use the code from this notebook to simulate our project, use the .py file)"
   ]
  },
  {
   "cell_type": "markdown",
   "metadata": {},
   "source": [
    "For the first part of our code, we are setting up our imports as well as the scene. We import all these libraries to be idealized at least once in our code. We then setup our scence with the basics as well as some boolean values that make it so the user of the program can not change the view of the scene to allow for a perfect 2D perspective. "
   ]
  },
  {
   "cell_type": "code",
   "execution_count": 1,
   "metadata": {},
   "outputs": [
    {
     "data": {
      "text/html": [
       "<div id=\"glowscript\" class=\"glowscript\"></div>"
      ],
      "text/plain": [
       "<IPython.core.display.HTML object>"
      ]
     },
     "metadata": {},
     "output_type": "display_data"
    },
    {
     "data": {
      "application/javascript": [
       "if (typeof Jupyter !== \"undefined\") { window.__context = { glowscript_container: $(\"#glowscript\").removeAttr(\"id\")};}else{ element.textContent = ' ';}"
      ],
      "text/plain": [
       "<IPython.core.display.Javascript object>"
      ]
     },
     "metadata": {},
     "output_type": "display_data"
    },
    {
     "data": {
      "text/html": [
       "<div id=\"glowscript\" class=\"glowscript\"></div>"
      ],
      "text/plain": [
       "<IPython.core.display.HTML object>"
      ]
     },
     "metadata": {},
     "output_type": "display_data"
    },
    {
     "data": {
      "application/javascript": [
       "if (typeof Jupyter !== \"undefined\") { window.__context = { glowscript_container: $(\"#glowscript\").removeAttr(\"id\")};}else{ element.textContent = ' ';}"
      ],
      "text/plain": [
       "<IPython.core.display.Javascript object>"
      ]
     },
     "metadata": {},
     "output_type": "display_data"
    }
   ],
   "source": [
    "from vpython import *\n",
    "import random as rand\n",
    "import matplotlib.pyplot as plt\n",
    "\n",
    "#scene\n",
    "scene2 = canvas(title='Breakdown',\n",
    "     width=500, height=600,\n",
    "     center=vector(0,0,0),userzoom = False,userspin = False)"
   ]
  },
  {
   "cell_type": "markdown",
   "metadata": {},
   "source": [
    "For the next part of our code we create all of the objects in our scene as well as the velocity of our puck. We wanted to create 4 different colored bricks for our puck to collide with so we have 4 different arrays for each row of colored bricks as well as the 4 of the same method to create the rows. We also have the walls of our scene that keep the puck from leaving the bounds of the scene."
   ]
  },
  {
   "cell_type": "code",
   "execution_count": 2,
   "metadata": {},
   "outputs": [
    {
     "data": {
      "application/javascript": [
       "if (typeof Jupyter !== \"undefined\") {require.undef(\"nbextensions/vpython_libraries/glow.min\");}else{element.textContent = ' ';}"
      ],
      "text/plain": [
       "<IPython.core.display.Javascript object>"
      ]
     },
     "metadata": {},
     "output_type": "display_data"
    },
    {
     "data": {
      "application/javascript": [
       "if (typeof Jupyter !== \"undefined\") {require.undef(\"nbextensions/vpython_libraries/glowcomm\");}else{element.textContent = ' ';}"
      ],
      "text/plain": [
       "<IPython.core.display.Javascript object>"
      ]
     },
     "metadata": {},
     "output_type": "display_data"
    },
    {
     "data": {
      "application/javascript": [
       "if (typeof Jupyter !== \"undefined\") {require.undef(\"nbextensions/vpython_libraries/jquery-ui.custom.min\");}else{element.textContent = ' ';}"
      ],
      "text/plain": [
       "<IPython.core.display.Javascript object>"
      ]
     },
     "metadata": {},
     "output_type": "display_data"
    },
    {
     "data": {
      "application/javascript": [
       "if (typeof Jupyter !== \"undefined\") {require([\"nbextensions/vpython_libraries/glow.min\"], function(){console.log(\"GLOW LOADED\");});}else{element.textContent = ' ';}"
      ],
      "text/plain": [
       "<IPython.core.display.Javascript object>"
      ]
     },
     "metadata": {},
     "output_type": "display_data"
    },
    {
     "data": {
      "application/javascript": [
       "if (typeof Jupyter !== \"undefined\") {require([\"nbextensions/vpython_libraries/glowcomm\"], function(){console.log(\"GLOWCOMM LOADED\");});}else{element.textContent = ' ';}"
      ],
      "text/plain": [
       "<IPython.core.display.Javascript object>"
      ]
     },
     "metadata": {},
     "output_type": "display_data"
    },
    {
     "data": {
      "application/javascript": [
       "if (typeof Jupyter !== \"undefined\") {require([\"nbextensions/vpython_libraries/jquery-ui.custom.min\"], function(){console.log(\"JQUERY LOADED\");});}else{element.textContent = ' ';}"
      ],
      "text/plain": [
       "<IPython.core.display.Javascript object>"
      ]
     },
     "metadata": {},
     "output_type": "display_data"
    }
   ],
   "source": [
    "#variables \n",
    "r = 2 #radius\n",
    "l = 70 #length\n",
    "w = 50 #width\n",
    "h = 0.5 #height\n",
    "\n",
    "#player puck with velocity\n",
    "puck = sphere(pos=vec(0,-20,0),size=vec(r,r,r),color=color.cyan)\n",
    "s = 10\n",
    "v = s*hat(vec(0.1, 0.9, 0))\n",
    "\n",
    "#block creation\n",
    "cols = 8\n",
    "rblocks = [] \n",
    "gblocks = []\n",
    "pblocks = []\n",
    "oblocks = []\n",
    "\n",
    "for x in range (0,cols): #idea of for loop block creation granted by Blake Harrison\n",
    "    newrblock = box(pos = vec(15 - (l/(2*cols) *x), 16, 0), size = vec(4.2,2, 2.5), color = color.red)\n",
    "    rblocks.append(newrblock)\n",
    "for x in range (0,cols):\n",
    "    newgblock = box(pos = vec(15 - (l/(2*cols) *x), 14, 0), size = vec(4.2,2, 2.5), color = color.green)\n",
    "    gblocks.append(newgblock)\n",
    "for x in range (0,cols):\n",
    "    newpblock = box(pos = vec(15 - (l/(2*cols) *x), 12, 0), size = vec(4.2,2, 2.5), color = color.purple)\n",
    "    pblocks.append(newpblock)\n",
    "for x in range (0,cols):\n",
    "    newoblock = box(pos = vec(15 - (l/(2*cols) *x), 10, 0), size = vec(4.2,2, 2.5), color = color.orange)\n",
    "    oblocks.append(newoblock)\n",
    "\n",
    "#wall with dimensions\n",
    "Lwall = box(pos=vec(-w/2 , 0, 0), size=vec(h, l, w), color=color.white)\n",
    "Rwall = box(pos=vec(w/2 , 0, 0), size=vec(h, l, w), color=color.white)\n",
    "Bwall = box(pos=vec(0, -l/2 , 0), size=vec(w, h, w), color=color.white) #-35\n",
    "Twall = box(pos=vec(0, l/2 , 0), size=vec(w, h, w), color=color.white)"
   ]
  },
  {
   "cell_type": "markdown",
   "metadata": {},
   "source": [
    "The next and final piece of the setup for our code is for the variables that will dictact the timesteps for the simulation as well as the arrays that will keep track of our time and velocity during the simulation. We figured out that 5000 iterations of the simulation would estimate to about a minute and 10 seconds which we thought would be plenty time for the puck to break every brick in the scene. "
   ]
  },
  {
   "cell_type": "code",
   "execution_count": null,
   "metadata": {},
   "outputs": [],
   "source": [
    "#time\n",
    "t = 0\n",
    "dt = 0.1\n",
    "Nsteps = 5000 #number of iterations\n",
    "tlist = []\n",
    "vlist = []\n",
    "\n",
    "scene2.pause()"
   ]
  },
  {
   "cell_type": "markdown",
   "metadata": {},
   "source": [
    "This is the staring part of our simulation loop. We set the rate to 100 loops per second so we can get a pretty smooth animation. We have our formuale for the motion of the puck during the loop to allow the puck's movement during the simulation. Right after our motion formula we have our checks to see if during the timestep the puck collides with one of the four walls and if so if reflects in the opposite direction. We also have our condition for if the puck collides with the bottom floor, and if so we have the puck reflect with its velocity changed to a random velocity from 1-30 m/s."
   ]
  },
  {
   "cell_type": "code",
   "execution_count": null,
   "metadata": {},
   "outputs": [],
   "source": [
    "while t < Nsteps*dt:\n",
    "    rate(100) #sets number of loops per second in order to slow down or speed up visualization\n",
    "\n",
    "    puck.pos = puck.pos + v*dt\n",
    "\n",
    "    #reflect from walls upon collision\n",
    "    if(abs(puck.pos.x) > w/2): #reflect in x-direction\n",
    "        v.x = -v.x\n",
    "    if(abs(puck.pos.y) > l/2): #reflect in y-direction\n",
    "        v.y = -v.y\n",
    "    if(puck.pos.y < -l/2): #reflect on bottom floor/change in velocity from 1-30m/s\n",
    "        v.y = v.y\n",
    "        a=1\n",
    "        b=15\n",
    "        v.y = ( a + random() * b-a)"
   ]
  },
  {
   "cell_type": "markdown",
   "metadata": {},
   "source": [
    "This is our looped check if during the timestep any of the bricks in the array are hit by the puck. We're checking here if the pucks position is basically close to that of a brick from either the x and y direction and if the brick is even there. If it meets those conditions we removes its visibility and therefore removing its physical purpose for these checks(breaking the brick) as well as reflecting the puck in the opposite direction. We continute this loop three more times to check for the other colored bricks as well but for the purpose of length we are only showing this first one. "
   ]
  },
  {
   "cell_type": "code",
   "execution_count": null,
   "metadata": {},
   "outputs": [],
   "source": [
    "#reflect from bricks and breaking of bricks upon collision, help on this granted by Dr.Titus and Blake Harrison\n",
    "    for b in rblocks: #red row\n",
    "        if (puck.pos.x-r <= b.pos.x+l/24) and (puck.pos.x+r >= b.pos.x+l/24) and (puck.pos.y > b.pos.y-l/40) and (puck.pos.y < b.pos.y+l/40) and b.visible == True:\n",
    "            b.visible = False\n",
    "            v.x = -v.x\n",
    "        elif (puck.pos.x-r <= b.pos.x-l/24) and (puck.pos.x+r >= b.pos.x-l/24) and (puck.pos.y > b.pos.y-l/40) and (puck.pos.y < b.pos.y+l/40) and b.visible == True:\n",
    "            b.visible = False\n",
    "            v.x = -v.x  \n",
    "        elif ((puck.pos.y+r) >= (b.pos.y-l/40)) and ((puck.pos.x) <= (l/24+b.pos.x) and (puck.pos.x) >= (b.pos.x-l/24)) and b.visible == True:\n",
    "            b.visible = False\n",
    "            v.y = -v.y "
   ]
  },
  {
   "cell_type": "markdown",
   "metadata": {},
   "source": [
    "For the last part of our code we have the final few lines of our simulation loop which adds the current values for our puck's velocity and the time during that timestep to their prespective lists, we are then just incrementing the timestep before the next run of the loop. Once the loop/simulation has ran through 5000 iterations our code generates a graph to show the pucks velocity over time as it collides with the bricks and the wall."
   ]
  },
  {
   "cell_type": "code",
   "execution_count": null,
   "metadata": {},
   "outputs": [],
   "source": [
    "vlist.append(mag(v))\n",
    "    tlist.append(t)\n",
    "    t = t + dt\n",
    "\n",
    "#post game graph of puck's velocity over time\n",
    "fig = plt.figure()\n",
    "plt.title = \"Speed of Puck over time\"\n",
    "plt.xlabel('t (s)')\n",
    "plt.ylabel('v (m/s)')\n",
    "plt.plot(tlist,vlist,'b-')\n",
    "plt.show()"
   ]
  }
 ],
 "metadata": {
  "kernelspec": {
   "display_name": "Python 3",
   "language": "python",
   "name": "python3"
  },
  "language_info": {
   "codemirror_mode": {
    "name": "ipython",
    "version": 3
   },
   "file_extension": ".py",
   "mimetype": "text/x-python",
   "name": "python",
   "nbconvert_exporter": "python",
   "pygments_lexer": "ipython3",
   "version": "3.8.5"
  }
 },
 "nbformat": 4,
 "nbformat_minor": 4
}
