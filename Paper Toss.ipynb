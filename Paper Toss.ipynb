{
 "cells": [
  {
   "cell_type": "markdown",
   "metadata": {},
   "source": [
    "# Paper Toss"
   ]
  },
  {
   "cell_type": "markdown",
   "metadata": {},
   "source": [
    "## Importing files and creating the funtion for the arduino "
   ]
  },
  {
   "cell_type": "code",
   "execution_count": null,
   "metadata": {},
   "outputs": [],
   "source": [
    "import numpy as np\n",
    "import copy\n",
    "import ode\n",
    "\n",
    "import serial, time"
   ]
  },
  {
   "cell_type": "code",
   "execution_count": null,
   "metadata": {},
   "outputs": [],
   "source": [
    "#this function writes a character to the Arduino and receives LR and UD  voltages from the Arduino\n",
    "def getData():\n",
    "    ser.write(str.encode(chr(1)))\n",
    "    line = ser.readline()\n",
    "    #print(line)\n",
    "    data = line.split()\n",
    "    button = int(data[0])\n",
    "    LR1 = int(data[1])\n",
    "    UD1 = int(data[2])\n",
    "    LR2 = int(data[3])\n",
    "    UD2 = int(data[4])\n",
    "    #print(str(LR)+\"\\t\"+str(UD))\n",
    "    return [button, LR1, UD1, LR2, UD2]\n",
    "\n",
    "#serial port for the Arduino; get the name for the port from the Arduino software\n",
    "port = 'COM4'\n",
    "\n",
    "#start the serial port\n",
    "ser = serial.Serial(port, 9600, timeout=2)\n",
    "\n",
    "# The following line is necessary to give the arduino time to start\n",
    "# accepting stuff.\n",
    "time.sleep(2)"
   ]
  },
  {
   "cell_type": "markdown",
   "metadata": {},
   "source": [
    "## The Actual Game"
   ]
  },
  {
   "cell_type": "code",
   "execution_count": null,
   "metadata": {
    "scrolled": false
   },
   "outputs": [],
   "source": [
    "from vpython import *\n",
    "scene1 = canvas(title='PaperToss',\n",
    "     width=500, height=600,\n",
    "     center=vector(0,0,0),userzoom = True,userspin = True)\n",
    "scene.autoscale=False\n",
    "r = 10\n",
    "\n",
    "ball = sphere(pos=vec(0,-100,0),size=vec(r,r,r),color=color.cyan)\n",
    "arrow = arrow(pos=vec(0,-100,0), axis= 2*vec(0,10,0), color = color.green)\n",
    "goal = cylinder(pos=vec(0,50, -150),  axis=vec(0,50,10), radius=30, color=color.white, opacity=0.8)\n",
    "scene1.pause()\n",
    "dt = 0.0001\n",
    "t = 0\n",
    "tmax = 1000\n",
    "v = vec(0, 5, 5)\n",
    "scale = 2\n",
    "xvel = 10\n",
    "Data = [] \n",
    "collision = False\n",
    "thrown = False\n",
    "ball.m = 0.75\n",
    "zvel = -9.81*ball.m\n",
    "while(not thrown):\n",
    "    rate(100)\n",
    "    Data = getData()\n",
    "    #xaxis movement\n",
    "    if(Data[0] == 1):\n",
    "        thrown = True\n",
    "    yvel = Data[1]\n",
    "    #print(yvel)\n",
    "    \n",
    "    ball.pos.x = ball.pos.x + scale*((yvel-506)/1000)\n",
    "    arrow.pos = ball.pos\n",
    "    #conditions on how far the ball can move\n",
    "    if(ball.pos.x > 100):\n",
    "        ball.pos.x = 100\n",
    "        print(\"You Can't Go That Far!\")\n",
    "    elif(ball.pos.x < -100):\n",
    "        ball.pos.x = -100\n",
    "        print(\"You Can't Go That Far!\")\n",
    "    \n",
    "    #print(ball.pos.x)\n",
    "    #velocity of ball (constant)\n",
    "    if(Data[2] - 516 > 1):\n",
    "        yvel = scale*((Data[2] - 516)/100+5)\n",
    "        arrow.axis = scale*vec(0,yvel,0) \n",
    "    elif(Data[2] - 516 < -1):\n",
    "        yvel = scale*((Data[2] - 516)/100+3)\n",
    "        arrow.axis = scale*vec(0,yvel,0) \n",
    "\n",
    "if(thrown):\n",
    "    #y and z axis movement \n",
    "    while(not collision and t < tmax):\n",
    "        rate(1000)\n",
    "        ball.pos.y = ball.pos.y + yvel/100\n",
    "        ball.pos.z = ball.pos.z + zvel/100\n",
    "        t = t+ dt\n",
    "        if(goal.pos.y+100 < ball.pos.y or goal.pos.z-100 > ball.pos.z):\n",
    "            print(\"You Missed SMH\")\n",
    "            t = tmax\n",
    "            \n",
    "        elif(goal.pos.y  < ball.pos.y and goal.pos.y+50  >  ball.pos.y):\n",
    "            if(goal.pos.x-30 < ball.pos.x and goal.pos.x+30 >  ball.pos.x):\n",
    "                if(goal.pos.z+20 > ball.pos.z and goal.pos.z-20 <  ball.pos.z):\n",
    "                    print(\"You got it!!!\")\n",
    "                    collision = True\n",
    "        elif(ball.pos.y < -150):\n",
    "            print(\"Wrong Way Silly\")\n",
    "            t = tmax\n",
    "        \n",
    "            "
   ]
  },
  {
   "cell_type": "markdown",
   "metadata": {},
   "source": [
    "## Physics for the fan"
   ]
  },
  {
   "cell_type": "code",
   "execution_count": 1,
   "metadata": {},
   "outputs": [],
   "source": [
    "#force of the fan\n",
    "p=1.2 #desnity of air \n",
    "A = 0.12 #area of the fan blades\n",
    "v = 15 #velocity of the fan blades\n",
    "f = (A*p*v**3)/4 #https://www.wired.com/2012/09/modeling-the-force-from-a-fan/ source\n",
    "#that would be the force on the air from the fans and that should effect the ball but it should be weaker the farther away it is.  thus I can to the conclution of\n",
    "#error cathing i would need to account for  negative x postion for the ball with an if statement. but that is fine. This would also only be calculated once as the ball is thrown \n",
    "#fob = f - (fan.pos.x - ball.pos.x)/100 \n",
    "#that is commented because fan doesn not exist at this moment but it would just create an error. also the fan balde are technically moving extremly fast in this senario because it has such a small area of effect that it needed to be larger in oder for it to do anythin at all to the ball.\n",
    "#also since no other forces would be acting on the ball while it is in the x direction it will continue with the same velocity once it leave and it will then be constant. \n",
    "#just a little thing for u to know :D thanks for a great semester\n",
    "#ps will deleted the last comment if i actually make this fully public and plan to keep it up. "
   ]
  }
 ],
 "metadata": {
  "kernelspec": {
   "display_name": "Python 3",
   "language": "python",
   "name": "python3"
  },
  "language_info": {
   "codemirror_mode": {
    "name": "ipython",
    "version": 3
   },
   "file_extension": ".py",
   "mimetype": "text/x-python",
   "name": "python",
   "nbconvert_exporter": "python",
   "pygments_lexer": "ipython3",
   "version": "3.8.5"
  }
 },
 "nbformat": 4,
 "nbformat_minor": 4
}
