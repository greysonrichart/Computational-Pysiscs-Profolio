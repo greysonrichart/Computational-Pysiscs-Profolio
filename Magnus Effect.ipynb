{
 "cells": [
  {
   "cell_type": "markdown",
   "metadata": {},
   "source": [
    "# Discovering the best angels for hitting a base ball with different spins"
   ]
  },
  {
   "cell_type": "markdown",
   "metadata": {},
   "source": [
    "The main goal of this program is to find out what angels are best for hitting a base ball with certain type of spin will cause it go travel the most distrance in the x direction. "
   ]
  },
  {
   "cell_type": "markdown",
   "metadata": {},
   "source": [
    "## Importing necessary files"
   ]
  },
  {
   "cell_type": "code",
   "execution_count": 1,
   "metadata": {},
   "outputs": [],
   "source": [
    "import ode \n",
    "import numpy as np\n",
    "import matplotlib.pyplot as plt\n"
   ]
  },
  {
   "cell_type": "markdown",
   "metadata": {},
   "source": [
    "## Setting the parameters for the system "
   ]
  },
  {
   "cell_type": "code",
   "execution_count": 2,
   "metadata": {},
   "outputs": [],
   "source": [
    "#parameters\n",
    "g = 9.8 #N/kg\n",
    "rho = 1.2 #kg/m^3\n",
    "mu = 1.8e-5 #kg/m/s\n",
    "r = 74e-3/2 #74 mm diameter, 9.25\" in circumference\n",
    "A = np.pi*r**2 #cross-sectional area\n",
    "Cd = 0.5 #actually depends on speed\n",
    "m = 0.145 #kg\n",
    "b2 = 1/2*Cd*rho*A #will change as Cd changes\n",
    "\n",
    "S = 0.01 #will change as omega and v change\n",
    "CL = 0 #will change with S\n",
    "alpha = 1/2*CL*rho*A*r/S\n"
   ]
  },
  {
   "cell_type": "markdown",
   "metadata": {},
   "source": [
    "These are the neccessary variables needed for the program."
   ]
  },
  {
   "cell_type": "markdown",
   "metadata": {},
   "source": [
    "## Functions"
   ]
  },
  {
   "cell_type": "code",
   "execution_count": 3,
   "metadata": {},
   "outputs": [],
   "source": [
    "def mag(v):\n",
    "    #calculate magnitude of an array\n",
    "    return np.sqrt(np.dot(v,v))\n",
    "\n",
    "def hat(v):\n",
    "    #calculate unit vector of an array\n",
    "    return v/mag(v)\n",
    "\n",
    "def cross(v1,v2):\n",
    "    #calculate the cross product of two vectors\n",
    "    return np.cross(v1,v2)\n",
    "\n",
    "def getCd(v):\n",
    "    # calculate value of drag coefficient for a particular speed and case\n",
    "\n",
    "    if case == 0:\n",
    "        Cd = 0\n",
    "    elif case == 1:\n",
    "        Cd = 0.5\n",
    "    elif case == 2:\n",
    "        a = 0.36\n",
    "        b = 0.14\n",
    "        c = 0.27\n",
    "        vc = 34\n",
    "        chi = (v - vc)/4\n",
    "        if chi < 0:\n",
    "            Cd = a + b/(1+np.exp(chi)) - c*np.exp(-chi**2)\n",
    "        else:\n",
    "            Cd = a + b/(1+np.exp(chi)) - c*np.exp(-chi**2/4)\n",
    "    else:\n",
    "        Cd = 0.5\n",
    "    \n",
    "    return Cd\n",
    "\n",
    "def model_magnus(d, tn):\n",
    "    #return array of derivatives\n",
    "        \n",
    "    #data\n",
    "    x = d[0]\n",
    "    y = d[1]\n",
    "    z = d[2]  \n",
    "    vx = d[3]\n",
    "    vy = d[4]\n",
    "    vz = d[5]\n",
    "    \n",
    "    #derivatives\n",
    "    rate = np.zeros(6) #derivatives\n",
    "    rate[0] = vx\n",
    "    rate[1] = vy\n",
    "    rate[2] = vz\n",
    "    \n",
    "    #speed\n",
    "    v = np.array([vx,vy,vz])\n",
    "    vmag = mag(v)\n",
    "    \n",
    "    #calculate force and dv/dt\n",
    "    Cd=getCd(vmag)\n",
    "    b2 = 1/2*Cd*rho*A\n",
    "    \n",
    "    S = r*omegamag/vmag\n",
    "    CL = 0.62*S**0.7\n",
    "    alpha = 1/2*CL*rho*A*r/S\n",
    "    \n",
    "    FM = alpha*cross(omega,v) #magnus force\n",
    "    \n",
    "    rate[3] = -b2*vmag*vx/m + FM[0]/m\n",
    "    rate[4] = (-b2*vmag*vy - m*g)/m + FM[1]/m\n",
    "    rate[5] = (-b2*vmag*vz)/m  + FM[2]/m\n",
    "    \n",
    "    return rate\n",
    "\n",
    "def run_magnus(data): # run simulation with case integer\n",
    "    global b2, alpha #need to change the value of b2 and alpha\n",
    "    \n",
    "    v = data[3:6]\n",
    "    vmag = mag(v)\n",
    "\n",
    "    #time\n",
    "    t = 0\n",
    "    h= 0.01\n",
    "    Nsteps = int(10/h)\n",
    "\n",
    "    #store trajectory for plotting or animation\n",
    "    traj = np.zeros((Nsteps, 4)) #store t, x, y, z for plotting\n",
    "    traj[0,:] = np.array([t, x0, y0, z0]) #store initial time and position\n",
    "\n",
    "    for n in range(0,Nsteps-1):\n",
    "\n",
    "        #update data\n",
    "        data = ode.RK4(model_magnus, data, t, h )\n",
    "\n",
    "        #update t\n",
    "        t = t + h\n",
    "\n",
    "        #store data for plotting\n",
    "        traj[n+1,:] = np.array([t, data[0], data[1], data[2]])\n",
    "    \n",
    "    return traj\n"
   ]
  },
  {
   "cell_type": "markdown",
   "metadata": {},
   "source": [
    "These are the functions needed for program, with run_magnus being the main function used in the program."
   ]
  },
  {
   "cell_type": "markdown",
   "metadata": {},
   "source": [
    "## Positive spin in z "
   ]
  },
  {
   "cell_type": "code",
   "execution_count": 4,
   "metadata": {
    "scrolled": false
   },
   "outputs": [
    {
     "data": {
      "image/png": "[encoded data removed]",
      "text/plain": [
       "<Figure size 720x432 with 1 Axes>"
      ]
     },
     "metadata": {
      "needs_background": "light"
     },
     "output_type": "display_data"
    }
   ],
   "source": [
    "ang = np.zeros(89)\n",
    "datarange = np.zeros(89)\n",
    "for i in range(1,90):\n",
    "    \n",
    "    # data for home run\n",
    "    vmag0mph = 111.1 #mph\n",
    "    thetadeg = i #deg\n",
    "    spinrate = 1838 #rpm\n",
    "    #spinrate = 1e-5\n",
    "\n",
    "    # convert units and create initial conditions\n",
    "    vmag0 = vmag0mph*0.44704 #convert mph to m/s\n",
    "    theta = thetadeg*np.pi/180 #convert deg to rad\n",
    "\n",
    "    x0 = 0\n",
    "    y0 = 0\n",
    "    z0 = 0\n",
    "    vx0 = vmag0*np.cos(theta)\n",
    "    vy0 = vmag0*np.sin(theta)\n",
    "    vz0 = 0\n",
    "\n",
    "    omegamag = spinrate * 2*np.pi / 60 #rad/s\n",
    "    omega = np.array([0, 0, omegamag])\n",
    "\n",
    "    # array for instantaneous position and velocity data\n",
    "    d = np.array([x0, y0, z0, vx0, vy0, vz0])\n",
    "    \n",
    "    # run models\n",
    "\n",
    "    case = 2\n",
    "    traj = run_magnus(d)\n",
    "    traj2 = traj[traj[:,2]>=0] #get trajectory data with y>=0\n",
    "\n",
    "\n",
    "    range2 = traj2[-1,1]\n",
    "\n",
    "    #print(\"Variable Cd: range = {:.0f} m = {:.0f} ft. \".format(range2, range2*3.28084))\n",
    "    #print(i)\n",
    "    datarange[i-1] = range2*3.28084\n",
    "    ang[i-1] = i\n",
    "#plot\n",
    "fig = plt.figure(figsize=(10,6))\n",
    "plt.title(\"Baseball Trajectory with Magnus Effect\")\n",
    "plt.plot(ang,datarange, 'b.', label= 'data')\n",
    "#plt.plot()\n",
    "#plt.plot()\n",
    "plt.xlabel('Theta')\n",
    "plt.ylabel('x (ft)')\n",
    "#plt.legend()\n",
    "plt.show()"
   ]
  },
  {
   "cell_type": "markdown",
   "metadata": {},
   "source": [
    "As can be seen from the graph the best angels for theta are 23-25 with all of the angels causing the ball to travel a distance of 499 ft."
   ]
  },
  {
   "cell_type": "markdown",
   "metadata": {},
   "source": [
    "## Positive spin in y"
   ]
  },
  {
   "cell_type": "code",
   "execution_count": 5,
   "metadata": {
    "scrolled": false
   },
   "outputs": [
    {
     "data": {
      "image/png": "[encoded data removed]",
      "text/plain": [
       "<Figure size 720x432 with 1 Axes>"
      ]
     },
     "metadata": {
      "needs_background": "light"
     },
     "output_type": "display_data"
    }
   ],
   "source": [
    "ang = np.zeros(89)\n",
    "datarange = np.zeros(89)\n",
    "for i in range(1,90):\n",
    "    \n",
    "    # data for home run\n",
    "    vmag0mph = 111.1 #mph\n",
    "    thetadeg = i #deg\n",
    "    spinrate = 1838 #rpm\n",
    "    #spinrate = 1e-5\n",
    "\n",
    "    # convert units and create initial conditions\n",
    "    vmag0 = vmag0mph*0.44704 #convert mph to m/s\n",
    "    theta = thetadeg*np.pi/180 #convert deg to rad\n",
    "\n",
    "    x0 = 0\n",
    "    y0 = 0\n",
    "    z0 = 0\n",
    "    vx0 = vmag0*np.cos(theta)\n",
    "    vy0 = vmag0*np.sin(theta)\n",
    "    vz0 = 0\n",
    "\n",
    "    omegamag = spinrate * 2*np.pi / 60 #rad/s\n",
    "    omega = np.array([0, omegamag, 0])\n",
    "\n",
    "    # array for instantaneous position and velocity data\n",
    "    d = np.array([x0, y0, z0, vx0, vy0, vz0])\n",
    "    \n",
    "    # run models\n",
    "    case = 2\n",
    "    traj = run_magnus(d)\n",
    "    traj2 = traj[traj[:,2]>=0] #get trajectory data with y>=0\n",
    "\n",
    "\n",
    "    range2 = traj2[-1,1]\n",
    "\n",
    "    \n",
    "    #print(\"Variable Cd: range = {:.0f} m = {:.0f} ft. \".format(range2, range2*3.28084))\n",
    "    #print(i)\n",
    "    datarange[i-1] = range2*3.28084\n",
    "    ang[i-1] = i\n",
    "#plot\n",
    "fig = plt.figure(figsize=(10,6))\n",
    "plt.title(\"Baseball Trajectory with Magnus Effect\")\n",
    "plt.plot(ang,datarange, 'b.', label= 'data')\n",
    "#plt.plot()\n",
    "#plt.plot()\n",
    "plt.xlabel('Theta')\n",
    "plt.ylabel('x (ft)')\n",
    "#plt.legend()\n",
    "plt.show()"
   ]
  },
  {
   "cell_type": "markdown",
   "metadata": {},
   "source": [
    "As we can see from this graph the best angel for theta are 32 with the distance travelled being 418 ft."
   ]
  },
  {
   "cell_type": "markdown",
   "metadata": {},
   "source": [
    "## Positive spin in x"
   ]
  },
  {
   "cell_type": "code",
   "execution_count": 6,
   "metadata": {
    "scrolled": false
   },
   "outputs": [
    {
     "data": {
      "image/png": "[encoded data removed]",
      "text/plain": [
       "<Figure size 720x432 with 1 Axes>"
      ]
     },
     "metadata": {
      "needs_background": "light"
     },
     "output_type": "display_data"
    }
   ],
   "source": [
    "ang = np.zeros(89)\n",
    "datarange = np.zeros(89)\n",
    "for i in range(1,90):\n",
    "    \n",
    "    # data for home run\n",
    "    vmag0mph = 111.1 #mph\n",
    "    thetadeg = i #deg\n",
    "    spinrate = 1838 #rpm\n",
    "    #spinrate = 1e-5\n",
    "\n",
    "    # convert units and create initial conditions\n",
    "    vmag0 = vmag0mph*0.44704 #convert mph to m/s\n",
    "    theta = thetadeg*np.pi/180 #convert deg to rad\n",
    "\n",
    "    x0 = 0\n",
    "    y0 = 0\n",
    "    z0 = 0\n",
    "    vx0 = vmag0*np.cos(theta)\n",
    "    vy0 = vmag0*np.sin(theta)\n",
    "    vz0 = 0\n",
    "\n",
    "    omegamag = spinrate * 2*np.pi / 60 #rad/s\n",
    "    omega = np.array([omegamag, 0, 0])\n",
    "\n",
    "    # array for instantaneous position and velocity data\n",
    "    d = np.array([x0, y0, z0, vx0, vy0, vz0])\n",
    "    \n",
    "    # run models\n",
    "    case = 2\n",
    "    traj = run_magnus(d)\n",
    "    traj2 = traj[traj[:,2]>=0] #get trajectory data with y>=0\n",
    "\n",
    "    range2 = traj2[-1,1]\n",
    "\n",
    "    \n",
    "    #print(\"Variable Cd: range = {:.0f} m = {:.0f} ft. \".format(range2, range2*3.28084))\n",
    "    #print(i)\n",
    "    datarange[i-1] = range2*3.28084\n",
    "    ang[i-1] = i\n",
    "#plot\n",
    "fig = plt.figure(figsize=(10,6))\n",
    "plt.title(\"Baseball Trajectory with Magnus Effect\")\n",
    "plt.plot(ang,datarange, 'b.', label= 'data')\n",
    "#plt.plot()\n",
    "#plt.plot()\n",
    "plt.xlabel('Theta')\n",
    "plt.ylabel('x (ft)')\n",
    "#plt.legend()\n",
    "plt.show()"
   ]
  },
  {
   "cell_type": "markdown",
   "metadata": {},
   "source": [
    "As can be seen from the graph the best angels for theta are 34 and 35 with both of the angels causing the ball to travel a distance of 433 ft."
   ]
  },
  {
   "cell_type": "markdown",
   "metadata": {},
   "source": [
    "## Negative spin in z "
   ]
  },
  {
   "cell_type": "code",
   "execution_count": 7,
   "metadata": {
    "scrolled": false
   },
   "outputs": [
    {
     "data": {
      "image/png": "[encoded data removed]",
      "text/plain": [
       "<Figure size 720x432 with 1 Axes>"
      ]
     },
     "metadata": {
      "needs_background": "light"
     },
     "output_type": "display_data"
    }
   ],
   "source": [
    "ang = np.zeros(89)\n",
    "datarange = np.zeros(89)\n",
    "for i in range(1,90):\n",
    "    \n",
    "    # data for home run\n",
    "    vmag0mph = 111.1 #mph\n",
    "    thetadeg = i #deg\n",
    "    spinrate = 1838 #rpm\n",
    "    #spinrate = 1e-5\n",
    "\n",
    "    # convert units and create initial conditions\n",
    "    vmag0 = vmag0mph*0.44704 #convert mph to m/s\n",
    "    theta = thetadeg*np.pi/180 #convert deg to rad\n",
    "\n",
    "    x0 = 0\n",
    "    y0 = 0\n",
    "    z0 = 0\n",
    "    vx0 = vmag0*np.cos(theta)\n",
    "    vy0 = vmag0*np.sin(theta)\n",
    "    vz0 = 0\n",
    "\n",
    "    omegamag = spinrate * 2*np.pi / 60 #rad/s\n",
    "    omega = np.array([0, 0, -omegamag])\n",
    "\n",
    "    # array for instantaneous position and velocity data\n",
    "    d = np.array([x0, y0, z0, vx0, vy0, vz0])\n",
    "    \n",
    "    # run model\n",
    "    case = 2\n",
    "    traj = run_magnus(d)\n",
    "    traj2 = traj[traj[:,2]>=0] #get trajectory data with y>=0\n",
    "\n",
    "    \n",
    "    range2 = traj2[-1,1]\n",
    "\n",
    "    #print(\"Variable Cd: range = {:.0f} m = {:.0f} ft. \".format(range2, range2*3.28084))\n",
    "    #print(i)\n",
    "    datarange[i-1] = range2*3.28084\n",
    "    ang[i-1] = i\n",
    "#plot\n",
    "fig = plt.figure(figsize=(10,6))\n",
    "plt.title(\"Baseball Trajectory with Magnus Effect\")\n",
    "plt.plot(ang,datarange, 'b.', label= 'data')\n",
    "#plt.plot()\n",
    "#plt.plot()\n",
    "plt.xlabel('Theta')\n",
    "plt.ylabel('x (ft)')\n",
    "#plt.legend()\n",
    "plt.show()"
   ]
  },
  {
   "cell_type": "markdown",
   "metadata": {},
   "source": [
    "As can be seen from the graph the best angels for theta are 42-44 with all of the angels causing the ball to travel a distance of 388 ft."
   ]
  },
  {
   "cell_type": "markdown",
   "metadata": {},
   "source": [
    "## Negative spin in y "
   ]
  },
  {
   "cell_type": "code",
   "execution_count": 8,
   "metadata": {
    "scrolled": false
   },
   "outputs": [
    {
     "data": {
      "image/png": "[encoded data removed]",
      "text/plain": [
       "<Figure size 720x432 with 1 Axes>"
      ]
     },
     "metadata": {
      "needs_background": "light"
     },
     "output_type": "display_data"
    }
   ],
   "source": [
    "ang = np.zeros(89)\n",
    "datarange = np.zeros(89)\n",
    "for i in range(1,90):\n",
    "    \n",
    "    # data for home run\n",
    "    vmag0mph = 111.1 #mph\n",
    "    thetadeg = i #deg\n",
    "    spinrate = 1838 #rpm\n",
    "    #spinrate = 1e-5\n",
    "\n",
    "    # convert units and create initial conditions\n",
    "    vmag0 = vmag0mph*0.44704 #convert mph to m/s\n",
    "    theta = thetadeg*np.pi/180 #convert deg to rad\n",
    "\n",
    "    x0 = 0\n",
    "    y0 = 0\n",
    "    z0 = 0\n",
    "    vx0 = vmag0*np.cos(theta)\n",
    "    vy0 = vmag0*np.sin(theta)\n",
    "    vz0 = 0\n",
    "\n",
    "    omegamag = spinrate * 2*np.pi / 60 #rad/s\n",
    "    omega = np.array([0, -omegamag, 0])\n",
    "\n",
    "    # array for instantaneous position and velocity data\n",
    "    d = np.array([x0, y0, z0, vx0, vy0, vz0])\n",
    "    \n",
    "    # run models\n",
    "    case = 0 #no air\n",
    "    traj = run_magnus(d)\n",
    "    traj0 = traj[traj[:,2]>=0] #get trajectory data with y>=0\n",
    "\n",
    "    case = 1 #Cd is constant\n",
    "    traj = run_magnus(d)\n",
    "    traj1 = traj[traj[:,2]>=0] #get trajectory data with y>=0\n",
    "\n",
    "    case = 2\n",
    "    traj = run_magnus(d)\n",
    "    traj2 = traj[traj[:,2]>=0] #get trajectory data with y>=0\n",
    "\n",
    "    range2 = traj2[-1,1]\n",
    "\n",
    "    #print(\"Variable Cd: range = {:.0f} m = {:.0f} ft. \".format(range2, range2*3.28084))\n",
    "    #print(i)\n",
    "    datarange[i-1] = range2*3.28084\n",
    "    ang[i-1] = i\n",
    "#plot\n",
    "fig = plt.figure(figsize=(10,6))\n",
    "plt.title(\"Baseball Trajectory with Magnus Effect\")\n",
    "plt.plot(ang,datarange, 'b.', label= 'data')\n",
    "#plt.plot()\n",
    "#plt.plot()\n",
    "plt.xlabel('Theta')\n",
    "plt.ylabel('x (ft)')\n",
    "#plt.legend()\n",
    "plt.show()"
   ]
  },
  {
   "cell_type": "markdown",
   "metadata": {},
   "source": [
    "As we can see from this graph the best angel for theta are 32 with the distance travelled being 418 ft. Which is the same as for the positve spin."
   ]
  },
  {
   "cell_type": "markdown",
   "metadata": {},
   "source": [
    "## Negative spin in z "
   ]
  },
  {
   "cell_type": "code",
   "execution_count": 9,
   "metadata": {
    "scrolled": false
   },
   "outputs": [
    {
     "data": {
      "image/png": "[encoded data removed]",
      "text/plain": [
       "<Figure size 720x432 with 1 Axes>"
      ]
     },
     "metadata": {
      "needs_background": "light"
     },
     "output_type": "display_data"
    }
   ],
   "source": [
    "ang = np.zeros(89)\n",
    "datarange = np.zeros(89)\n",
    "for i in range(1,90):\n",
    "    \n",
    "    # data for home run\n",
    "    vmag0mph = 111.1 #mph\n",
    "    thetadeg = i #deg\n",
    "    spinrate = 1838 #rpm\n",
    "    #spinrate = 1e-5\n",
    "\n",
    "    # convert units and create initial conditions\n",
    "    vmag0 = vmag0mph*0.44704 #convert mph to m/s\n",
    "    theta = thetadeg*np.pi/180 #convert deg to rad\n",
    "\n",
    "    x0 = 0\n",
    "    y0 = 0\n",
    "    z0 = 0\n",
    "    vx0 = vmag0*np.cos(theta)\n",
    "    vy0 = vmag0*np.sin(theta)\n",
    "    vz0 = 0\n",
    "\n",
    "    omegamag = spinrate * 2*np.pi / 60 #rad/s\n",
    "    omega = np.array([-omegamag, 0, 0])\n",
    "\n",
    "    # array for instantaneous position and velocity data\n",
    "    d = np.array([x0, y0, z0, vx0, vy0, vz0])\n",
    "    \n",
    "    # run models\n",
    "\n",
    "    case = 2\n",
    "    traj = run_magnus(d)\n",
    "    traj2 = traj[traj[:,2]>=0] #get trajectory data with y>=0\n",
    "\n",
    "    range2 = traj2[-1,1]\n",
    "\n",
    "\n",
    "    #print(\"Variable Cd: range = {:.0f} m = {:.0f} ft. \".format(range2, range2*3.28084))\n",
    "    #print(i)\n",
    "    datarange[i-1] = range2*3.28084\n",
    "    ang[i-1] = i\n",
    "#plot\n",
    "fig = plt.figure(figsize=(10,6))\n",
    "plt.title(\"Baseball Trajectory with Magnus Effect\")\n",
    "plt.plot(ang,datarange, 'b.', label= 'data')\n",
    "#plt.plot()\n",
    "#plt.plot()\n",
    "plt.xlabel('Theta')\n",
    "plt.ylabel('x (ft)')\n",
    "#plt.legend()\n",
    "plt.show()"
   ]
  },
  {
   "cell_type": "markdown",
   "metadata": {},
   "source": [
    "As can be seen from the graph the best angels for theta are 34 and 35 with both of the angels causing the ball to travel a distance of 433 ft. Which is just the same as the positive spin. "
   ]
  },
  {
   "cell_type": "markdown",
   "metadata": {},
   "source": [
    "# Overall Results"
   ]
  },
  {
   "cell_type": "markdown",
   "metadata": {},
   "source": [
    "There were some very interesting results. The main Thing that stands out is that the only change in optimal angel between postive spin and negative spin happened when the spin was in z, while in the x and y they stayed the same. I was not expecting this at first, but thinking about it when the ball has spin in those directions it would not change much for the ball's distance travelled. though spin in the z which causes top spin would in fact cause a change in the distance travelled. "
   ]
  }
 ],
 "metadata": {
  "kernelspec": {
   "display_name": "Python 3",
   "language": "python",
   "name": "python3"
  },
  "language_info": {
   "codemirror_mode": {
    "name": "ipython",
    "version": 3
   },
   "file_extension": ".py",
   "mimetype": "text/x-python",
   "name": "python",
   "nbconvert_exporter": "python",
   "pygments_lexer": "ipython3",
   "version": "3.8.5"
  }
 },
 "nbformat": 4,
 "nbformat_minor": 4
}
